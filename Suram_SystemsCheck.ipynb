{
 "cells": [
  {
   "cell_type": "markdown",
   "id": "98583973",
   "metadata": {},
   "source": [
    "# Course Module: Interactive Data"
   ]
  },
  {
   "cell_type": "markdown",
   "id": "f8094585",
   "metadata": {},
   "source": [
    "***What am i looking forward to learn from this calss***"
   ]
  },
  {
   "cell_type": "markdown",
   "id": "c8d27acc",
   "metadata": {},
   "source": [
    "***"
   ]
  },
  {
   "attachments": {
    "Python.jpeg": {
     "image/jpeg": "[encoded data removed]"
    }
   },
   "cell_type": "markdown",
   "id": "8503af2b",
   "metadata": {},
   "source": [
    "![Python.jpeg](attachment:Python.jpeg)\n"
   ]
  },
  {
   "cell_type": "markdown",
   "id": "2646f5fd",
   "metadata": {},
   "source": [
    "* Looking forward to brush up my python skills.\n",
    "* Try and implement new analytical skills using inputs from the class. \n",
    "* Deep dive intlo using pythin fot abalytics."
   ]
  },
  {
   "cell_type": "code",
   "execution_count": null,
   "id": "7abfb61b",
   "metadata": {},
   "outputs": [],
   "source": [
    "# Assigning Varaibles \n",
    "gig = \"i wish i could perform at a gig\"\n",
    "you = \"along with you \"\n",
    "have = [1, 4, 3]\n",
    "print(gig)\n",
    "print(you)\n",
    "print(have)"
   ]
  },
  {
   "cell_type": "code",
   "execution_count": null,
   "id": "faaa7097",
   "metadata": {},
   "outputs": [],
   "source": [
    "# statement on for loops    \n",
    "fruits = [\"apple\", \"banana\", \"cherry\"]\n",
    "for fruit in fruits:\n",
    "    print(fruit)"
   ]
  },
  {
   "cell_type": "code",
   "execution_count": null,
   "id": "58241c68",
   "metadata": {},
   "outputs": [],
   "source": [
    "# Function for a cheeky parrot (Print Statement and Return Statement)\n",
    "# Function for a cheeky parrot\n",
    "def parrot(talk):\n",
    "    response = f\"You said: '{talk}'\"\n",
    "    print(response)\n",
    "    \n",
    "    if \"cookie\" in talk.lower():\n",
    "        print(\"Parrot: Gimme cookie!\")\n",
    "    else:\n",
    "        print(\"Parrot: Boring... say something interesting!\")\n",
    "\n",
    "    return response\n",
    "\n",
    "# Having a conversation with the cheeky parrot\n",
    "conversation1 = parrot(\"Hello, how are you?\")\n",
    "conversation2 = parrot(\"Can I have a cookie, please?\")\n",
    "\n"
   ]
  },
  {
   "cell_type": "code",
   "execution_count": null,
   "id": "b8761525",
   "metadata": {},
   "outputs": [],
   "source": []
  }
 ],
 "metadata": {
  "kernelspec": {
   "display_name": "Python 3 (ipykernel)",
   "language": "python",
   "name": "python3"
  },
  "language_info": {
   "codemirror_mode": {
    "name": "ipython",
    "version": 3
   },
   "file_extension": ".py",
   "mimetype": "text/x-python",
   "name": "python",
   "nbconvert_exporter": "python",
   "pygments_lexer": "ipython3",
   "version": "3.11.4"
  }
 },
 "nbformat": 4,
 "nbformat_minor": 5
}
