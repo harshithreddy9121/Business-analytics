{
 "cells": [
  {
   "cell_type": "code",
   "execution_count": 45,
   "metadata": {},
   "outputs": [
    {
     "name": "stderr",
     "output_type": "stream",
     "text": [
      "C:\\Users\\srika\\AppData\\Local\\Temp\\ipykernel_8128\\4055062152.py:6: DtypeWarning: Columns (7,8) have mixed types. Specify dtype option on import or set low_memory=False.\n",
      "  df = pd.read_csv(\"c:\\\\Users\\\\srika\\\\Interactive_data\\\\Final Project\\\\flights.csv\")\n"
     ]
    }
   ],
   "source": [
    "import pandas as pd\n",
    "import matplotlib.pyplot as plt\n",
    "import seaborn as sns\n",
    "\n",
    "# Load the data\n",
    "df = pd.read_csv(\"c:\\\\Users\\\\Harsh\\\\Interactive_data\\\\Final Project\\\\flights.csv\")\n",
    "\n",
    "# Consider only a sample of 1000 rows\n",
    "df = df.sample(n=1000, random_state=42)\n",
    "\n"
   ]
  },
  {
   "cell_type": "markdown",
   "metadata": {},
   "source": [
    "## Read in and format Data\n"
   ]
  },
  {
   "cell_type": "code",
   "execution_count": 46,
   "metadata": {},
   "outputs": [
    {
     "data": {
      "text/html": [
       "<div>\n",
       "<style scoped>\n",
       "    .dataframe tbody tr th:only-of-type {\n",
       "        vertical-align: middle;\n",
       "    }\n",
       "\n",
       "    .dataframe tbody tr th {\n",
       "        vertical-align: top;\n",
       "    }\n",
       "\n",
       "    .dataframe thead th {\n",
       "        text-align: right;\n",
       "    }\n",
       "</style>\n",
       "<table border=\"1\" class=\"dataframe\">\n",
       "  <thead>\n",
       "    <tr style=\"text-align: right;\">\n",
       "      <th></th>\n",
       "      <th>DAY_OF_WEEK</th>\n",
       "      <th>AIRLINE</th>\n",
       "      <th>FLIGHT_NUMBER</th>\n",
       "      <th>TAIL_NUMBER</th>\n",
       "      <th>ORIGIN_AIRPORT</th>\n",
       "      <th>DESTINATION_AIRPORT</th>\n",
       "      <th>SCHEDULED_DEPARTURE</th>\n",
       "      <th>DEPARTURE_TIME</th>\n",
       "      <th>DEPARTURE_DELAY</th>\n",
       "      <th>TAXI_OUT</th>\n",
       "      <th>...</th>\n",
       "      <th>ARRIVAL_DELAY</th>\n",
       "      <th>DIVERTED</th>\n",
       "      <th>CANCELLED</th>\n",
       "      <th>CANCELLATION_REASON</th>\n",
       "      <th>AIR_SYSTEM_DELAY</th>\n",
       "      <th>SECURITY_DELAY</th>\n",
       "      <th>AIRLINE_DELAY</th>\n",
       "      <th>LATE_AIRCRAFT_DELAY</th>\n",
       "      <th>WEATHER_DELAY</th>\n",
       "      <th>Date</th>\n",
       "    </tr>\n",
       "  </thead>\n",
       "  <tbody>\n",
       "    <tr>\n",
       "      <th>1508570</th>\n",
       "      <td>2</td>\n",
       "      <td>EV</td>\n",
       "      <td>4900</td>\n",
       "      <td>N759EV</td>\n",
       "      <td>FWA</td>\n",
       "      <td>DTW</td>\n",
       "      <td>1340</td>\n",
       "      <td>1335.0</td>\n",
       "      <td>-5.0</td>\n",
       "      <td>13.0</td>\n",
       "      <td>...</td>\n",
       "      <td>-13.0</td>\n",
       "      <td>0</td>\n",
       "      <td>0</td>\n",
       "      <td>NaN</td>\n",
       "      <td>NaN</td>\n",
       "      <td>NaN</td>\n",
       "      <td>NaN</td>\n",
       "      <td>NaN</td>\n",
       "      <td>NaN</td>\n",
       "      <td>2015-04-07</td>\n",
       "    </tr>\n",
       "    <tr>\n",
       "      <th>363270</th>\n",
       "      <td>6</td>\n",
       "      <td>AS</td>\n",
       "      <td>611</td>\n",
       "      <td>N413AS</td>\n",
       "      <td>LAS</td>\n",
       "      <td>SEA</td>\n",
       "      <td>1910</td>\n",
       "      <td>1858.0</td>\n",
       "      <td>-12.0</td>\n",
       "      <td>14.0</td>\n",
       "      <td>...</td>\n",
       "      <td>-12.0</td>\n",
       "      <td>0</td>\n",
       "      <td>0</td>\n",
       "      <td>NaN</td>\n",
       "      <td>NaN</td>\n",
       "      <td>NaN</td>\n",
       "      <td>NaN</td>\n",
       "      <td>NaN</td>\n",
       "      <td>NaN</td>\n",
       "      <td>2015-01-24</td>\n",
       "    </tr>\n",
       "    <tr>\n",
       "      <th>3003945</th>\n",
       "      <td>3</td>\n",
       "      <td>WN</td>\n",
       "      <td>1483</td>\n",
       "      <td>N463WN</td>\n",
       "      <td>OAK</td>\n",
       "      <td>SEA</td>\n",
       "      <td>630</td>\n",
       "      <td>626.0</td>\n",
       "      <td>-4.0</td>\n",
       "      <td>8.0</td>\n",
       "      <td>...</td>\n",
       "      <td>-8.0</td>\n",
       "      <td>0</td>\n",
       "      <td>0</td>\n",
       "      <td>NaN</td>\n",
       "      <td>NaN</td>\n",
       "      <td>NaN</td>\n",
       "      <td>NaN</td>\n",
       "      <td>NaN</td>\n",
       "      <td>NaN</td>\n",
       "      <td>2015-07-08</td>\n",
       "    </tr>\n",
       "    <tr>\n",
       "      <th>2291425</th>\n",
       "      <td>2</td>\n",
       "      <td>WN</td>\n",
       "      <td>193</td>\n",
       "      <td>N7745A</td>\n",
       "      <td>STL</td>\n",
       "      <td>DAL</td>\n",
       "      <td>810</td>\n",
       "      <td>1043.0</td>\n",
       "      <td>153.0</td>\n",
       "      <td>6.0</td>\n",
       "      <td>...</td>\n",
       "      <td>152.0</td>\n",
       "      <td>0</td>\n",
       "      <td>0</td>\n",
       "      <td>NaN</td>\n",
       "      <td>0.0</td>\n",
       "      <td>0.0</td>\n",
       "      <td>0.0</td>\n",
       "      <td>152.0</td>\n",
       "      <td>0.0</td>\n",
       "      <td>2015-05-26</td>\n",
       "    </tr>\n",
       "    <tr>\n",
       "      <th>2973084</th>\n",
       "      <td>1</td>\n",
       "      <td>UA</td>\n",
       "      <td>253</td>\n",
       "      <td>N213UA</td>\n",
       "      <td>IAH</td>\n",
       "      <td>HNL</td>\n",
       "      <td>1000</td>\n",
       "      <td>1008.0</td>\n",
       "      <td>8.0</td>\n",
       "      <td>16.0</td>\n",
       "      <td>...</td>\n",
       "      <td>-2.0</td>\n",
       "      <td>0</td>\n",
       "      <td>0</td>\n",
       "      <td>NaN</td>\n",
       "      <td>NaN</td>\n",
       "      <td>NaN</td>\n",
       "      <td>NaN</td>\n",
       "      <td>NaN</td>\n",
       "      <td>NaN</td>\n",
       "      <td>2015-07-06</td>\n",
       "    </tr>\n",
       "  </tbody>\n",
       "</table>\n",
       "<p>5 rows × 29 columns</p>\n",
       "</div>"
      ],
      "text/plain": [
       "         DAY_OF_WEEK AIRLINE  FLIGHT_NUMBER TAIL_NUMBER ORIGIN_AIRPORT  \\\n",
       "1508570            2      EV           4900      N759EV            FWA   \n",
       "363270             6      AS            611      N413AS            LAS   \n",
       "3003945            3      WN           1483      N463WN            OAK   \n",
       "2291425            2      WN            193      N7745A            STL   \n",
       "2973084            1      UA            253      N213UA            IAH   \n",
       "\n",
       "        DESTINATION_AIRPORT  SCHEDULED_DEPARTURE  DEPARTURE_TIME  \\\n",
       "1508570                 DTW                 1340          1335.0   \n",
       "363270                  SEA                 1910          1858.0   \n",
       "3003945                 SEA                  630           626.0   \n",
       "2291425                 DAL                  810          1043.0   \n",
       "2973084                 HNL                 1000          1008.0   \n",
       "\n",
       "         DEPARTURE_DELAY  TAXI_OUT  ...  ARRIVAL_DELAY  DIVERTED  CANCELLED  \\\n",
       "1508570             -5.0      13.0  ...          -13.0         0          0   \n",
       "363270             -12.0      14.0  ...          -12.0         0          0   \n",
       "3003945             -4.0       8.0  ...           -8.0         0          0   \n",
       "2291425            153.0       6.0  ...          152.0         0          0   \n",
       "2973084              8.0      16.0  ...           -2.0         0          0   \n",
       "\n",
       "         CANCELLATION_REASON  AIR_SYSTEM_DELAY  SECURITY_DELAY  AIRLINE_DELAY  \\\n",
       "1508570                  NaN               NaN             NaN            NaN   \n",
       "363270                   NaN               NaN             NaN            NaN   \n",
       "3003945                  NaN               NaN             NaN            NaN   \n",
       "2291425                  NaN               0.0             0.0            0.0   \n",
       "2973084                  NaN               NaN             NaN            NaN   \n",
       "\n",
       "         LATE_AIRCRAFT_DELAY  WEATHER_DELAY       Date  \n",
       "1508570                  NaN            NaN 2015-04-07  \n",
       "363270                   NaN            NaN 2015-01-24  \n",
       "3003945                  NaN            NaN 2015-07-08  \n",
       "2291425                152.0            0.0 2015-05-26  \n",
       "2973084                  NaN            NaN 2015-07-06  \n",
       "\n",
       "[5 rows x 29 columns]"
      ]
     },
     "execution_count": 46,
     "metadata": {},
     "output_type": "execute_result"
    }
   ],
   "source": [
    "# Combine 'year', 'month', and 'day' columns to create 'Date' column\n",
    "df['Date'] = pd.to_datetime(df[['YEAR', 'MONTH', 'DAY']])\n",
    "\n",
    "# Drop 'year', 'month', and 'day' columns\n",
    "df.drop(columns=['YEAR', 'MONTH', 'DAY',], inplace=True)\n",
    "\n",
    "df.head()"
   ]
  },
  {
   "cell_type": "code",
   "execution_count": 48,
   "metadata": {},
   "outputs": [
    {
     "data": {
      "text/html": [
       "<div>\n",
       "<style scoped>\n",
       "    .dataframe tbody tr th:only-of-type {\n",
       "        vertical-align: middle;\n",
       "    }\n",
       "\n",
       "    .dataframe tbody tr th {\n",
       "        vertical-align: top;\n",
       "    }\n",
       "\n",
       "    .dataframe thead th {\n",
       "        text-align: right;\n",
       "    }\n",
       "</style>\n",
       "<table border=\"1\" class=\"dataframe\">\n",
       "  <thead>\n",
       "    <tr style=\"text-align: right;\">\n",
       "      <th></th>\n",
       "      <th>AIRLINE</th>\n",
       "      <th>FLIGHT_NUMBER</th>\n",
       "      <th>Date</th>\n",
       "      <th>ORIGIN_AIRPORT</th>\n",
       "      <th>DESTINATION_AIRPORT</th>\n",
       "      <th>SCHEDULED_DEPARTURE</th>\n",
       "      <th>DEPARTURE_TIME</th>\n",
       "      <th>DEPARTURE_DELAY</th>\n",
       "      <th>DIVERTED</th>\n",
       "      <th>CANCELLED</th>\n",
       "      <th>TAXI_OUT</th>\n",
       "      <th>TAXI_IN</th>\n",
       "    </tr>\n",
       "  </thead>\n",
       "  <tbody>\n",
       "    <tr>\n",
       "      <th>1508570</th>\n",
       "      <td>EV</td>\n",
       "      <td>4900</td>\n",
       "      <td>2015-04-07</td>\n",
       "      <td>FWA</td>\n",
       "      <td>DTW</td>\n",
       "      <td>1340</td>\n",
       "      <td>1335.0</td>\n",
       "      <td>-5.0</td>\n",
       "      <td>0</td>\n",
       "      <td>0</td>\n",
       "      <td>13.0</td>\n",
       "      <td>5.0</td>\n",
       "    </tr>\n",
       "    <tr>\n",
       "      <th>363270</th>\n",
       "      <td>AS</td>\n",
       "      <td>611</td>\n",
       "      <td>2015-01-24</td>\n",
       "      <td>LAS</td>\n",
       "      <td>SEA</td>\n",
       "      <td>1910</td>\n",
       "      <td>1858.0</td>\n",
       "      <td>-12.0</td>\n",
       "      <td>0</td>\n",
       "      <td>0</td>\n",
       "      <td>14.0</td>\n",
       "      <td>10.0</td>\n",
       "    </tr>\n",
       "    <tr>\n",
       "      <th>3003945</th>\n",
       "      <td>WN</td>\n",
       "      <td>1483</td>\n",
       "      <td>2015-07-08</td>\n",
       "      <td>OAK</td>\n",
       "      <td>SEA</td>\n",
       "      <td>630</td>\n",
       "      <td>626.0</td>\n",
       "      <td>-4.0</td>\n",
       "      <td>0</td>\n",
       "      <td>0</td>\n",
       "      <td>8.0</td>\n",
       "      <td>6.0</td>\n",
       "    </tr>\n",
       "    <tr>\n",
       "      <th>2291425</th>\n",
       "      <td>WN</td>\n",
       "      <td>193</td>\n",
       "      <td>2015-05-26</td>\n",
       "      <td>STL</td>\n",
       "      <td>DAL</td>\n",
       "      <td>810</td>\n",
       "      <td>1043.0</td>\n",
       "      <td>153.0</td>\n",
       "      <td>0</td>\n",
       "      <td>0</td>\n",
       "      <td>6.0</td>\n",
       "      <td>8.0</td>\n",
       "    </tr>\n",
       "    <tr>\n",
       "      <th>2973084</th>\n",
       "      <td>UA</td>\n",
       "      <td>253</td>\n",
       "      <td>2015-07-06</td>\n",
       "      <td>IAH</td>\n",
       "      <td>HNL</td>\n",
       "      <td>1000</td>\n",
       "      <td>1008.0</td>\n",
       "      <td>8.0</td>\n",
       "      <td>0</td>\n",
       "      <td>0</td>\n",
       "      <td>16.0</td>\n",
       "      <td>11.0</td>\n",
       "    </tr>\n",
       "  </tbody>\n",
       "</table>\n",
       "</div>"
      ],
      "text/plain": [
       "        AIRLINE  FLIGHT_NUMBER       Date ORIGIN_AIRPORT DESTINATION_AIRPORT  \\\n",
       "1508570      EV           4900 2015-04-07            FWA                 DTW   \n",
       "363270       AS            611 2015-01-24            LAS                 SEA   \n",
       "3003945      WN           1483 2015-07-08            OAK                 SEA   \n",
       "2291425      WN            193 2015-05-26            STL                 DAL   \n",
       "2973084      UA            253 2015-07-06            IAH                 HNL   \n",
       "\n",
       "         SCHEDULED_DEPARTURE  DEPARTURE_TIME  DEPARTURE_DELAY  DIVERTED  \\\n",
       "1508570                 1340          1335.0             -5.0         0   \n",
       "363270                  1910          1858.0            -12.0         0   \n",
       "3003945                  630           626.0             -4.0         0   \n",
       "2291425                  810          1043.0            153.0         0   \n",
       "2973084                 1000          1008.0              8.0         0   \n",
       "\n",
       "         CANCELLED  TAXI_OUT  TAXI_IN  \n",
       "1508570          0      13.0      5.0  \n",
       "363270           0      14.0     10.0  \n",
       "3003945          0       8.0      6.0  \n",
       "2291425          0       6.0      8.0  \n",
       "2973084          0      16.0     11.0  "
      ]
     },
     "execution_count": 48,
     "metadata": {},
     "output_type": "execute_result"
    }
   ],
   "source": [
    "# Keep only the specified columns\n",
    "columns_to_keep = ['AIRLINE','FLIGHT_NUMBER','Date', 'ORIGIN_AIRPORT', 'DESTINATION_AIRPORT',\n",
    "                   'SCHEDULED_DEPARTURE', 'DEPARTURE_TIME', 'DEPARTURE_DELAY',\n",
    "                   'DIVERTED', 'CANCELLED','TAXI_OUT','TAXI_IN']\n",
    "\n",
    "df = df[columns_to_keep]\n",
    "df.head()"
   ]
  },
  {
   "cell_type": "code",
   "execution_count": 49,
   "metadata": {},
   "outputs": [
    {
     "name": "stderr",
     "output_type": "stream",
     "text": [
      "C:\\Users\\srika\\AppData\\Local\\Temp\\ipykernel_8128\\2124611326.py:3: SettingWithCopyWarning: \n",
      "A value is trying to be set on a copy of a slice from a DataFrame.\n",
      "Try using .loc[row_indexer,col_indexer] = value instead\n",
      "\n",
      "See the caveats in the documentation: https://pandas.pydata.org/pandas-docs/stable/user_guide/indexing.html#returning-a-view-versus-a-copy\n",
      "  df[c]=df[c].astype(\"category\")\n",
      "C:\\Users\\srika\\AppData\\Local\\Temp\\ipykernel_8128\\2124611326.py:3: SettingWithCopyWarning: \n",
      "A value is trying to be set on a copy of a slice from a DataFrame.\n",
      "Try using .loc[row_indexer,col_indexer] = value instead\n",
      "\n",
      "See the caveats in the documentation: https://pandas.pydata.org/pandas-docs/stable/user_guide/indexing.html#returning-a-view-versus-a-copy\n",
      "  df[c]=df[c].astype(\"category\")\n",
      "C:\\Users\\srika\\AppData\\Local\\Temp\\ipykernel_8128\\2124611326.py:3: SettingWithCopyWarning: \n",
      "A value is trying to be set on a copy of a slice from a DataFrame.\n",
      "Try using .loc[row_indexer,col_indexer] = value instead\n",
      "\n",
      "See the caveats in the documentation: https://pandas.pydata.org/pandas-docs/stable/user_guide/indexing.html#returning-a-view-versus-a-copy\n",
      "  df[c]=df[c].astype(\"category\")\n"
     ]
    }
   ],
   "source": [
    "cat_col= ['AIRLINE','ORIGIN_AIRPORT', 'DESTINATION_AIRPORT']\n",
    "for c in cat_col:\n",
    "    df[c]=df[c].astype(\"category\")"
   ]
  },
  {
   "cell_type": "code",
   "execution_count": 50,
   "metadata": {},
   "outputs": [
    {
     "name": "stdout",
     "output_type": "stream",
     "text": [
      "<class 'pandas.core.frame.DataFrame'>\n",
      "Index: 1000 entries, 1508570 to 2588562\n",
      "Data columns (total 12 columns):\n",
      " #   Column               Non-Null Count  Dtype         \n",
      "---  ------               --------------  -----         \n",
      " 0   AIRLINE              1000 non-null   category      \n",
      " 1   FLIGHT_NUMBER        1000 non-null   int64         \n",
      " 2   Date                 1000 non-null   datetime64[ns]\n",
      " 3   ORIGIN_AIRPORT       1000 non-null   category      \n",
      " 4   DESTINATION_AIRPORT  1000 non-null   category      \n",
      " 5   SCHEDULED_DEPARTURE  1000 non-null   int64         \n",
      " 6   DEPARTURE_TIME       982 non-null    float64       \n",
      " 7   DEPARTURE_DELAY      982 non-null    float64       \n",
      " 8   DIVERTED             1000 non-null   int64         \n",
      " 9   CANCELLED            1000 non-null   int64         \n",
      " 10  TAXI_OUT             981 non-null    float64       \n",
      " 11  TAXI_IN              981 non-null    float64       \n",
      "dtypes: category(3), datetime64[ns](1), float64(4), int64(4)\n",
      "memory usage: 94.7 KB\n"
     ]
    }
   ],
   "source": [
    "df.info()\n"
   ]
  },
  {
   "cell_type": "markdown",
   "metadata": {},
   "source": [
    "## Understanding the `Departure_Delay`\n"
   ]
  },
  {
   "cell_type": "code",
   "execution_count": 51,
   "metadata": {},
   "outputs": [
    {
     "data": {
      "text/plain": [
       "<Axes: title={'center': 'Distribution of Flight Delays'}, ylabel='Frequency'>"
      ]
     },
     "execution_count": 51,
     "metadata": {},
     "output_type": "execute_result"
    },
    {
     "data": {
      "image/png": "[encoded data removed]",
      "text/plain": [
       "<Figure size 640x480 with 1 Axes>"
      ]
     },
     "metadata": {},
     "output_type": "display_data"
    }
   ],
   "source": [
    "df[\"DEPARTURE_DELAY\"].plot(kind=\"hist\",bins=50,title=\"Distribution of Flight Delays\")"
   ]
  },
  {
   "cell_type": "code",
   "execution_count": 52,
   "metadata": {},
   "outputs": [
    {
     "data": {
      "text/plain": [
       "<Axes: title={'center': 'Distribution of Flight Delays < 30 Min'}, ylabel='Frequency'>"
      ]
     },
     "execution_count": 52,
     "metadata": {},
     "output_type": "execute_result"
    },
    {
     "data": {
      "image/png": "[encoded data removed]",
      "text/plain": [
       "<Figure size 640x480 with 1 Axes>"
      ]
     },
     "metadata": {},
     "output_type": "display_data"
    }
   ],
   "source": [
    "df.query(\"DEPARTURE_DELAY > 30\")[\"DEPARTURE_DELAY\"].plot(kind=\"hist\",bins=30,title=\"Distribution of Flight Delays < 30 Min\")"
   ]
  },
  {
   "cell_type": "code",
   "execution_count": 54,
   "metadata": {},
   "outputs": [
    {
     "data": {
      "text/plain": [
       "<Axes: title={'center': 'Distribution of Flight Delays between 1 & 30 Min'}, ylabel='Frequency'>"
      ]
     },
     "execution_count": 54,
     "metadata": {},
     "output_type": "execute_result"
    },
    {
     "data": {
      "image/png": "[encoded data removed]",
      "text/plain": [
       "<Figure size 640x480 with 1 Axes>"
      ]
     },
     "metadata": {},
     "output_type": "display_data"
    }
   ],
   "source": [
    "df.query(\"DEPARTURE_DELAY > 1 and DEPARTURE_DELAY< 31\")[\"DEPARTURE_DELAY\"].plot(kind=\"hist\",bins=30,title=\"Distribution of Flight Delays between 1 & 30 Min\")"
   ]
  }
 ],
 "metadata": {
  "kernelspec": {
   "display_name": "base",
   "language": "python",
   "name": "python3"
  },
  "language_info": {
   "codemirror_mode": {
    "name": "ipython",
    "version": 3
   },
   "file_extension": ".py",
   "mimetype": "text/x-python",
   "name": "python",
   "nbconvert_exporter": "python",
   "pygments_lexer": "ipython3",
   "version": "3.11.5"
  }
 },
 "nbformat": 4,
 "nbformat_minor": 2
}
